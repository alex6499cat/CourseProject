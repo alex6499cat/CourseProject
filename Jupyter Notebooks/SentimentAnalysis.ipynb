{
 "cells": [
  {
   "cell_type": "markdown",
   "metadata": {},
   "source": [
    "# The objective is to assign a Sentiment Score to each sentence of each tweet. Need to install java, stanza, pytorch to use CoreNLP interface from stanza. Can be cumbersome."
   ]
  },
  {
   "cell_type": "code",
   "execution_count": 2,
   "metadata": {},
   "outputs": [],
   "source": [
    "import stanza\n",
    "import datetime as dt\n",
    "import pandas as pd\n",
    "\n",
    "corenlp_dir = './corenlp'"
   ]
  },
  {
   "cell_type": "code",
   "execution_count": 3,
   "metadata": {},
   "outputs": [],
   "source": [
    "# Set the CORENLP_HOME environment variable to point to the installation location\n",
    "import os\n",
    "os.environ[\"CORENLP_HOME\"] = corenlp_dir"
   ]
  },
  {
   "cell_type": "code",
   "execution_count": 4,
   "metadata": {},
   "outputs": [],
   "source": [
    "# Import client module\n",
    "from stanza.server import CoreNLPClient"
   ]
  },
  {
   "cell_type": "markdown",
   "metadata": {},
   "source": [
    "Only threads that are verified to be correct are processed: minimum of one customer tweet and a company reply (2 tweets in the thread), has to be initiated by the customer, the links to next and previous tweets must be valid, the threaded tweets should follow a timely order with the most recent ones at the end."
   ]
  },
  {
   "cell_type": "code",
   "execution_count": 5,
   "metadata": {},
   "outputs": [],
   "source": [
    "threads = pd.read_csv('threads.csv', dtype = {'tweet_id': str})\n",
    "threads[\"first_sentim_l\"] = \"\"\n",
    "threads[\"last_sentim_l\"] = \"\"\n",
    "threads[\"first_tweet_text\"] = \"\"\n",
    "threads[\"last_tweet_text\"] = \"\"\n",
    "\n",
    "mask = (threads[\"length\"] > 2) &  threads[\"verify_alternance\"] & threads[\"inbound_first\"] & threads[\"verify_thread\"] & threads[\"verify_time\"]  \n",
    "thread_ok = threads[mask].copy()\n",
    "thread_ok.set_index('tweet_id', inplace = True)\n",
    "\n",
    "full_df = pd.read_csv(\"emojiTranslatedCleanedNoUnderscore.csv\", na_filter= False, parse_dates = ['created_at'],\n",
    "                      dtype = {'tweet_id': str,'in_response_to_tweet_id': str, 'inbound':bool, 'response_tweet_id':str })\n",
    "full_df.set_index(\"tweet_id\", inplace = True)\n",
    "\n",
    "inbound_col, tweet_col, first_sentim_col, last_sentim_col, first_tweet_col, last_tweet_col = thread_ok.columns.get_indexer([\"inbound_l\",\"tweet_l\",\"first_sentim_l\", \"last_sentim_l\", \"first_tweet_text\",\"last_tweet_text\"])\n"
   ]
  },
  {
   "cell_type": "markdown",
   "metadata": {},
   "source": [
    "This piece takes hours long to run. It was 8 hours in my Corei5 PC. Beware. For Demo replace the \"in range(len(thread_ok)):\" with a more decent number like 1001."
   ]
  },
  {
   "cell_type": "code",
   "execution_count": 6,
   "metadata": {},
   "outputs": [
    {
     "name": "stderr",
     "output_type": "stream",
     "text": [
      "2020-12-13 00:09:25 INFO: Writing properties to tmp file: corenlp_server-a4136d562b8542d5.props\n",
      "2020-12-13 00:09:25 INFO: Starting server with command: java -Xmx6G -cp ./corenlp\\* edu.stanford.nlp.pipeline.StanfordCoreNLPServer -port 9001 -timeout 100000 -threads 5 -maxCharLength 100000 -quiet True -serverProperties corenlp_server-a4136d562b8542d5.props -annotators sentiment -preload -outputFormat serialized\n"
     ]
    },
    {
     "name": "stdout",
     "output_type": "stream",
     "text": [
      "Starting a server with the Python \"with\" statement...\n",
      "Processing this number of valid threads:  122609\n",
      "Working on thread number:  0 time:  00:09:26.208590\n",
      "Working on thread number:  1000 time:  00:13:03.632660\n",
      "\n",
      "The server should be stopped upon exit from the \"with\" statement.\n"
     ]
    }
   ],
   "source": [
    "print(\"Starting a server with the Python \\\"with\\\" statement...\")\n",
    "with CoreNLPClient(annotators=['sentiment'], \n",
    "                   memory='6G', endpoint='http://localhost:9001', be_quiet=True, timeout = 100000) as client:\n",
    "    print(\"Processing this number of valid threads: \", len(thread_ok))\n",
    "    for row in range(1001):   \n",
    "    #for row in range(len(thread_ok)):           \n",
    "        if row % 1000 == 0:\n",
    "            print(\"Working on thread number: \", row, \"time: \", dt.datetime.now().time())\n",
    "        inbound_text, tweet_text = thread_ok.iloc[row,[inbound_col,tweet_col]]\n",
    "        inbound_list = inbound_text.split(\"|\")\n",
    "        tweet_list = tweet_text.split(\"|\")\n",
    "        first_user_tweet = tweet_list[0]\n",
    "        last_user_tweet = tweet_list[::-1][inbound_list[::-1].index(\"True\")]\n",
    "        first_tweet_text = full_df.loc[first_user_tweet,\"text\"]\n",
    "        last_tweet_text = full_df.loc[last_user_tweet,\"text\"]\n",
    "        first_doc = client.annotate(first_tweet_text)\n",
    "        last_doc = client.annotate(last_tweet_text)\n",
    "        first_sentiment = []\n",
    "        last_sentiment = []\n",
    "        for i, sentence in enumerate(first_doc.sentence):\n",
    "            first_sentiment.append(sentence.sentiment)\n",
    "        for sentence in last_doc.sentence:\n",
    "            last_sentiment.append(sentence.sentiment)\n",
    "        thread_ok.iloc[row,[first_sentim_col,last_sentim_col, first_tweet_col, last_tweet_col]]= ['|'.join(first_sentiment),'|'.join(last_sentiment), first_tweet_text, last_tweet_text]\n",
    "print(\"\\nThe server should be stopped upon exit from the \\\"with\\\" statement.\")"
   ]
  },
  {
   "cell_type": "code",
   "execution_count": null,
   "metadata": {},
   "outputs": [],
   "source": [
    "thread_ok.to_csv(r'thread_first_last_sentiment.csv')"
   ]
  }
 ],
 "metadata": {
  "kernelspec": {
   "display_name": "Python 3",
   "language": "python",
   "name": "python3"
  },
  "language_info": {
   "codemirror_mode": {
    "name": "ipython",
    "version": 3
   },
   "file_extension": ".py",
   "mimetype": "text/x-python",
   "name": "python",
   "nbconvert_exporter": "python",
   "pygments_lexer": "ipython3",
   "version": "3.8.3"
  }
 },
 "nbformat": 4,
 "nbformat_minor": 4
}
