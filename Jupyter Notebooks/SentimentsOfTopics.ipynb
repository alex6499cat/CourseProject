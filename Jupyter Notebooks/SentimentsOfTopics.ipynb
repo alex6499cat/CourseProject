{
 "cells": [
  {
   "cell_type": "code",
   "execution_count": 6,
   "metadata": {},
   "outputs": [
    {
     "name": "stdout",
     "output_type": "stream",
     "text": [
      "{'8': [], '9': [], '5': [], '2': [], '6': [], '7': [], '1': [], '0': [], '4': [], '3': []}\n",
      "finished. See NotebookData for three delta sentiment file results.\n"
     ]
    }
   ],
   "source": [
    "import pandas as pd\n",
    "\n",
    "\n",
    "sentiments = pd.read_csv('NotebookData/senti_improve_company_yearmonth.csv')\n",
    "\n",
    "deltaTopics = open('NotebookData/DeltaTopics.txt',\"r\",encoding=\"utf-8\")\n",
    "\n",
    "deltaStart = open('NotebookData/deltaStartTweetAverageSentimentByTopic.txt',\"w\",encoding=\"utf-8\")\n",
    "deltaEnd = open('NotebookData/deltaLastTweetAverageSentimentByTopic.txt',\"w\",encoding=\"utf-8\")\n",
    "deltaImprove = open('NotebookData/deltaImproveTweetAverageSentimentByTopic.txt',\"w\",encoding=\"utf-8\")\n",
    "deltaTopics = deltaTopics.read().splitlines()\n",
    "\n",
    "firstSentimentTopicMap = {}\n",
    "firstSentimentAverages = {}\n",
    "\n",
    "lastSentimentTopicMap = {}\n",
    "lastSentimentAverages = {}\n",
    "\n",
    "improveSentimentTopicMap = {}\n",
    "improveSentimentAverages = {}\n",
    "\n",
    "\n",
    "for x in range(10):\n",
    "    firstSentimentTopicMap[str(x)] = []\n",
    "    lastSentimentTopicMap[str(x)] = []\n",
    "    improveSentimentTopicMap[str(x)] = []\n",
    "\n",
    "print(firstSentimentTopicMap)\n",
    "\n",
    "\n",
    "#Compile sentiments of topics on the first tweets, last tweets, and overall improvement between threads\n",
    "for line, row in enumerate(sentiments.itertuples(), 1):  \n",
    "    if(sentiments.at[row.Index, 'company_name'] == 'Delta'):\n",
    "        firstTweetIdSentiment = sentiments.at[row.Index, 'tweet_l'].split('|')[0]\n",
    "        firstSentimentAverage = sentiments.at[row.Index, 'first_senti_avg']\n",
    "        lastSentimentAverage = sentiments.at[row.Index, 'last_senti_avg']\n",
    "        improveSentimentAverage = sentiments.at[row.Index, 'senti_improve']\n",
    "\n",
    "        for deltaTopic in deltaTopics:\n",
    "            deltaTopic = deltaTopic.split('|')\n",
    "            deltaTweetId = deltaTopic[0]\n",
    "            topic = deltaTopic[2]\n",
    "            if(firstTweetIdSentiment.strip() == deltaTweetId.strip()):\n",
    "\n",
    "                firstSentimentTopicMap[topic.strip()].append(float(firstSentimentAverage))\n",
    "                lastSentimentTopicMap[topic.strip()].append(float(lastSentimentAverage))\n",
    "                improveSentimentTopicMap[topic.strip()].append(float(improveSentimentAverage))\n",
    "\n",
    "\n",
    "\n",
    "#Aggregates and averages sentiments of topics\n",
    "for x in range(10):\n",
    "\n",
    "    deltaStart.write(str(x) + '|' + str(sum(firstSentimentTopicMap[str(x)])/len(firstSentimentTopicMap[str(x)])) + '\\n')\n",
    "    deltaEnd.write(str(x) + '|' + str(sum(lastSentimentTopicMap[str(x)])/len(lastSentimentTopicMap[str(x)])) + '\\n')\n",
    "\n",
    "    deltaImprove.write(str(x) + '|' + str(sum(improveSentimentTopicMap[str(x)])/len(improveSentimentTopicMap[str(x)])) + '\\n')\n",
    "\n",
    "    \n",
    "print('finished. See NotebookData for three delta sentiment file results.')"
   ]
  },
  {
   "cell_type": "code",
   "execution_count": null,
   "metadata": {},
   "outputs": [],
   "source": []
  },
  {
   "cell_type": "code",
   "execution_count": null,
   "metadata": {},
   "outputs": [],
   "source": []
  }
 ],
 "metadata": {
  "kernelspec": {
   "display_name": "Python 3",
   "language": "python",
   "name": "python3"
  },
  "language_info": {
   "codemirror_mode": {
    "name": "ipython",
    "version": 3
   },
   "file_extension": ".py",
   "mimetype": "text/x-python",
   "name": "python",
   "nbconvert_exporter": "python",
   "pygments_lexer": "ipython3",
   "version": "3.5.4"
  }
 },
 "nbformat": 4,
 "nbformat_minor": 4
}
